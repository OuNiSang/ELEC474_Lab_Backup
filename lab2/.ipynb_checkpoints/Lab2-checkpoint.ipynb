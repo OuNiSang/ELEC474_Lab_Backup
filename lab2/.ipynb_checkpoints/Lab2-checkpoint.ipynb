{
 "cells": [
  {
   "cell_type": "markdown",
   "metadata": {},
   "source": [
    "# ELEC474 Lab2 20119641\n",
    "please check the console down below for more info when running the program "
   ]
  },
  {
   "cell_type": "markdown",
   "metadata": {},
   "source": [
    "## Import"
   ]
  },
  {
   "cell_type": "code",
   "execution_count": 1,
   "metadata": {},
   "outputs": [],
   "source": [
    "import cv2 as cv\n",
    "import numpy as np\n",
    "import random\n",
    "import math"
   ]
  },
  {
   "cell_type": "markdown",
   "metadata": {},
   "source": [
    "## Initialzation Param"
   ]
  },
  {
   "cell_type": "code",
   "execution_count": 2,
   "metadata": {},
   "outputs": [],
   "source": [
    "#I tried two implement them in the same page, but kind of hard and will make code bulky \n",
    "#So sorry for required need uncomment this again \n",
    "# imgName = \"baboon.jpg\"\n",
    "imgName = \"SAFlag.jpg\" #comment this if u need to test baboon.jpg \n",
    "windowName = \"Lab2_20119641\"\n",
    "trackbarName = \"K value\"\n",
    "trackbarValRange = [0, 30]  #the range for the k cluster \n",
    "maxRoundAllow = 15          #the maximum round for redoing k-mean based on changing mean value\n",
    "centoridApproxThreshold = 1 #the threshold for mean of BGR channel diff between mean \n",
    "                            #of new centroid and old centroid\n"
   ]
  },
  {
   "cell_type": "markdown",
   "metadata": {},
   "source": [
    "## Callback Functions"
   ]
  },
  {
   "cell_type": "code",
   "execution_count": 3,
   "metadata": {},
   "outputs": [],
   "source": [
    "def TrackbarCallback(*arg):\n",
    "    global kVal\n",
    "    kVal = cv.getTrackbarPos(trackbarName, windowName)  #assign kval from trackbar\n"
   ]
  },
  {
   "cell_type": "markdown",
   "metadata": {},
   "source": [
    "## Aid functions\n"
   ]
  },
  {
   "cell_type": "code",
   "execution_count": 4,
   "metadata": {},
   "outputs": [],
   "source": [
    "def ColorValDiff(point1, point2):       #calculating the mean BGR value of two given pixels \n",
    "    try:                                #try catch section can be removed \n",
    "        val = CalDiff(point1[0], point2[0])+CalDiff(point1[1], point2[1])+CalDiff(point1[2], point2[2])  \n",
    "        return val\n",
    "    except:\n",
    "        print(\"centoid : \", point1)\n",
    "        print(\"compare point: \", point2)"
   ]
  },
  {
   "cell_type": "code",
   "execution_count": 5,
   "metadata": {},
   "outputs": [],
   "source": [
    "def CalDiff(x, y):                      #calculate diff based on below equation, time consume type, can be imporve\n",
    "    return math.sqrt(math.pow(x-y, 2))"
   ]
  },
  {
   "cell_type": "code",
   "execution_count": 6,
   "metadata": {},
   "outputs": [],
   "source": [
    "def ImageRestore(imgSize):  #Try to restore the color of image in the window when every time change kVal  \n",
    "    global imgOrig,windowName,img\n",
    "    for x in range(imgSize[0]):\n",
    "        for y in range(imgSize[1]):\n",
    "            img[x][y] = imgOrig[x][y]\n",
    "    cv.imshow(windowName, img) #don't know why is not working LOL"
   ]
  },
  {
   "cell_type": "markdown",
   "metadata": {},
   "source": [
    "## k-mean cluster algorithm implemetation"
   ]
  },
  {
   "cell_type": "code",
   "execution_count": 7,
   "metadata": {},
   "outputs": [],
   "source": [
    "def initCentroids(img, imgSize, kVal):\n",
    "    centroids = np.zeros((kVal,img.shape[2]))                   \n",
    "    for i in range(kVal):                               #randomly pick up centriod based on kVal\n",
    "        randX = random.randint(0, imgSize[0]-1)\n",
    "        randY = random.randint(0,imgSize[1]-1)\n",
    "        centroids[i, :] = np.copy(img[randX][randY])\n",
    "    # print(\"inital centroid point:\\n\", centroids)      #uncomment if needed \n",
    "    return centroids                                    #retrun in each row [#'s represent RGB value]"
   ]
  },
  {
   "cell_type": "code",
   "execution_count": 8,
   "metadata": {},
   "outputs": [],
   "source": [
    "def Kmeans(img, imgSize, kVal):\n",
    "    \n",
    "    global firstTest\n",
    "    if not firstTest:                                #not important, reusing image only\n",
    "        print(30*'*',\"restore image\",30*'*')\n",
    "        ImageRestore(imgSize)\n",
    "    if kVal == 0:\n",
    "        print(\"Please choice a k val bigger than 0\")\n",
    "        return\n",
    "    # the first colum, [x,y,0], stores which cluster this sample belongs to\n",
    "    # the second colum , [x,y,1], stores the diff between sample pixel and certorid \n",
    "    clusterAssign = np.zeros((imgSize[0],imgSize[1], 2))\n",
    "    isCountiue = True\n",
    "\n",
    "    ##init cluster centoird \n",
    "    centroid = initCentroids(img, imgSize,kVal)\n",
    "\n",
    "    #performance cal init\n",
    "    print (40*'=')\n",
    "    print(\"Start k-mean cluster under k value of \", kVal)\n",
    "    time_All_start = cv.getTickCount()\n",
    "    countRound = 0\n",
    "    \n",
    "    #k means algorithm \n",
    "    while isCountiue and countRound < maxRoundAllow:\n",
    "\n",
    "        countRound += 1\n",
    "        print(10*'-',\"> start round \", countRound)\n",
    "        time_Round_Start = cv.getTickCount()\n",
    "\n",
    "        isCountiue = False\n",
    "        #walk through all the pixel and compare with all the random centroid\n",
    "        for x in range(imgSize[0]):\n",
    "            for y in range(imgSize[1]):\n",
    "                minDiff = 255*255*255 #just get a random large val \n",
    "                minIdx = 0\n",
    "                for i in range(kVal):\n",
    "                    tempDiff = ColorValDiff(centroid[i], img[x][y]) #get the diff value for this point when centroid \n",
    "                    if tempDiff < minDiff and CalDiff(tempDiff, minDiff) > centoridApproxThreshold :\n",
    "                        minDiff = tempDiff\n",
    "                        minIdx = i\n",
    "                clusterAssign[x,y,:] = [minIdx,minDiff] #store the cluster type and diff value\n",
    "        \n",
    "        #initalization \n",
    "        meanVal = []\n",
    "        diffVal = []\n",
    "        badCount = 0\n",
    "        \n",
    "        for j in range(kVal):           #Calculate the sum of mean for all point in a cluster\n",
    "            locator = np.nonzero(clusterAssign[:,:,0] == j)\n",
    "            clusterPVal = img[locator]\n",
    "            meanVal.append(np.mean(clusterPVal, axis=0))          \n",
    "        for i in range(len(centroid)):  #compare with threshold to see whether should redo clustering cal\n",
    "            tempDiff = ColorValDiff(centroid[i], meanVal[i])\n",
    "            diffVal.append(tempDiff)\n",
    "            if  tempDiff >= centoridApproxThreshold:\n",
    "                badCount += 1           # redundant use due to debug \n",
    "        if badCount == 0:               # End k-mean looping if all pixel satisfied with thershold\n",
    "            print(10*'！')\n",
    "            isCountiue = False\n",
    "        else:                           #else keep looping and update centroid with meanVal forall k cluster\n",
    "            isCountiue = True\n",
    "            centroid = meanVal\n",
    "            \n",
    "        #performance\n",
    "        time_round_end = cv.getTickCount()\n",
    "        time_round_cal = (time_round_end - time_Round_Start)/cv.getTickFrequency()\n",
    "#         print(\"k centroid mean cluster:\\n\", centroid)         #uncomment if needed， debug useage\n",
    "        print(\"Average of difference for all k\", np.mean(diffVal))\n",
    "        print(\"End round\", countRound, \"with in\", time_round_cal, \"sec <\",10*'-','\\n')\n",
    "\n",
    "    #performance\n",
    "    time_All_end = cv.getTickCount()\n",
    "    time_All_cal = (time_All_end - time_All_start) / cv.getTickFrequency()\n",
    "    print(\"!!!!!!!CONGRATULATION!!!!!!!!\")\n",
    "    print(\"Cluster finished in\", time_All_cal, \"sec with\", countRound, \"Rounds\")\n",
    "    print (40*'=')\n",
    "\n",
    "    #perform ColorQuantization\n",
    "    print(15*'>', \"Start ColorQuantization\", 15*'>')\n",
    "    time_All_start = cv.getTickCount()\n",
    "    ColorQuantization(centroid,clusterAssign,img,imgSize)\n",
    "    time_All_end = cv.getTickCount()\n",
    "    time_All_cal = (time_All_end - time_All_start) / cv.getTickFrequency()\n",
    "    print(10*'<',\"Color Quantization finished in \", time_All_cal, \"sec\",10*'<')"
   ]
  },
  {
   "cell_type": "markdown",
   "metadata": {},
   "source": [
    "## Color Quantization"
   ]
  },
  {
   "cell_type": "code",
   "execution_count": 9,
   "metadata": {},
   "outputs": [],
   "source": [
    "def ColorQuantization(centroid, clusterAssign, img, imgSize):\n",
    "    global windowName, firstTest\n",
    "    for x in range(imgSize[0]):\n",
    "        for y in range(imgSize[1]):\n",
    "            idx = int(clusterAssign[x,y,0])\n",
    "            img[x,y] = centroid[idx]\n",
    "    cv.imshow(windowName, img)\n",
    "    firstTest = False\n"
   ]
  },
  {
   "cell_type": "markdown",
   "metadata": {},
   "source": [
    "## Main Function"
   ]
  },
  {
   "cell_type": "code",
   "execution_count": 10,
   "metadata": {},
   "outputs": [
    {
     "name": "stdout",
     "output_type": "stream",
     "text": [
      "Press ENTER to start K mean cluster after u pick a k Val\n",
      "Press ESC to exit the program\n",
      "Please choice a k val bigger than 0\n",
      "========================================\n",
      "Start k-mean cluster under k value of  6\n",
      "---------- > start round  1\n",
      "Average of difference for all k 33.521774109270304\n",
      "End round 1 with in 4.2618754 sec < ---------- \n",
      "\n",
      "---------- > start round  2\n",
      "Average of difference for all k 7.337853895218726\n",
      "End round 2 with in 4.1296924 sec < ---------- \n",
      "\n",
      "---------- > start round  3\n",
      "Average of difference for all k 3.8166218531754073\n",
      "End round 3 with in 4.1164417 sec < ---------- \n",
      "\n",
      "---------- > start round  4\n",
      "Average of difference for all k 3.6924691610214784\n",
      "End round 4 with in 4.1124888 sec < ---------- \n",
      "\n",
      "---------- > start round  5\n",
      "Average of difference for all k 4.088854901966182\n",
      "End round 5 with in 4.1099577 sec < ---------- \n",
      "\n",
      "---------- > start round  6\n",
      "Average of difference for all k 4.0931650490324705\n",
      "End round 6 with in 4.0973274 sec < ---------- \n",
      "\n",
      "---------- > start round  7\n",
      "Average of difference for all k 4.84268941557439\n",
      "End round 7 with in 4.0879234 sec < ---------- \n",
      "\n",
      "---------- > start round  8\n",
      "Average of difference for all k 6.283536738037057\n",
      "End round 8 with in 4.1176736 sec < ---------- \n",
      "\n",
      "---------- > start round  9\n",
      "Average of difference for all k 5.452951375621744\n",
      "End round 9 with in 4.1186364 sec < ---------- \n",
      "\n",
      "---------- > start round  10\n",
      "Average of difference for all k 3.2586817019266285\n",
      "End round 10 with in 4.1078241 sec < ---------- \n",
      "\n",
      "---------- > start round  11\n",
      "Average of difference for all k 1.882803004882924\n",
      "End round 11 with in 4.1009724 sec < ---------- \n",
      "\n",
      "---------- > start round  12\n",
      "Average of difference for all k 0.9376359221552318\n",
      "End round 12 with in 4.102703 sec < ---------- \n",
      "\n",
      "---------- > start round  13\n",
      "Average of difference for all k 0.6727309530924069\n",
      "End round 13 with in 4.1060634 sec < ---------- \n",
      "\n",
      "---------- > start round  14\n",
      "！！！！！！！！！！\n",
      "Average of difference for all k 0.08830543720636956\n",
      "End round 14 with in 4.1081874 sec < ---------- \n",
      "\n",
      "!!!!!!!CONGRATULATION!!!!!!!!\n",
      "Cluster finished in 57.6972285 sec with 14 Rounds\n",
      "========================================\n",
      ">>>>>>>>>>>>>>> Start ColorQuantization >>>>>>>>>>>>>>>\n",
      "<<<<<<<<<< Color Quantization finished in  0.1995356 sec <<<<<<<<<<\n"
     ]
    }
   ],
   "source": [
    "img = cv.imread(imgName)\n",
    "imgOrig = np.copy(img)\n",
    "imgSize = [img.shape[0], img.shape[1]]\n",
    "kVal = 0 #num of centers \n",
    "firstTest = True\n",
    "\n",
    "cv.namedWindow(windowName, cv.WINDOW_NORMAL)\n",
    "cv.resizeWindow(windowName,imgSize[1], imgSize[0])\n",
    "cv.createTrackbar(trackbarName, windowName, trackbarValRange[0],trackbarValRange[1], TrackbarCallback)\n",
    "print(\"Press ENTER to start K mean cluster after u pick a k Val\")\n",
    "print(\"Press ESC to exit the program\")\n",
    "cv.imshow(windowName, img)\n",
    "while True:\n",
    "    key = cv.waitKey(1)\n",
    "    if key == 27: #press ESC to exit the program\n",
    "        break\n",
    "    if key == 13: #press ENTER to start k-mean clustering\n",
    "        Kmeans(img, imgSize, kVal)\n",
    "cv.destroyAllWindows()"
   ]
  },
  {
   "cell_type": "code",
   "execution_count": null,
   "metadata": {},
   "outputs": [],
   "source": []
  },
  {
   "cell_type": "code",
   "execution_count": null,
   "metadata": {},
   "outputs": [],
   "source": []
  },
  {
   "cell_type": "code",
   "execution_count": null,
   "metadata": {},
   "outputs": [],
   "source": []
  }
 ],
 "metadata": {
  "kernelspec": {
   "display_name": "Python 3",
   "language": "python",
   "name": "python3"
  },
  "language_info": {
   "codemirror_mode": {
    "name": "ipython",
    "version": 3
   },
   "file_extension": ".py",
   "mimetype": "text/x-python",
   "name": "python",
   "nbconvert_exporter": "python",
   "pygments_lexer": "ipython3",
   "version": "3.8.5"
  }
 },
 "nbformat": 4,
 "nbformat_minor": 4
}
