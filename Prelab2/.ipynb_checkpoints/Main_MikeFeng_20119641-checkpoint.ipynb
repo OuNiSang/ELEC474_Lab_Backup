{
 "cells": [
  {
   "cell_type": "markdown",
   "metadata": {},
   "source": [
    "Prelab2\n",
    "--Mike Feng 20119641"
   ]
  },
  {
   "cell_type": "code",
   "execution_count": 2,
   "metadata": {},
   "outputs": [],
   "source": [
    "import cv2, numpy\n",
    "\n",
    "imageName =  \"baboon.png\"\n",
    "# imageName =  \"mihoyo.png\"\n",
    "# imageName =  \"steingate.png\"\n",
    "windowName = \"Prelab2_Trackbar\"\n",
    "trackBarName = \"Intensity\""
   ]
  },
  {
   "cell_type": "markdown",
   "metadata": {},
   "source": [
    "Callback functions"
   ]
  },
  {
   "cell_type": "code",
   "execution_count": 3,
   "metadata": {},
   "outputs": [],
   "source": [
    "def TargetBarCallback(*arg):\n",
    "    threshold = cv2.getTrackbarPos(trackBarName,windowName)"
   ]
  },
  {
   "cell_type": "code",
   "execution_count": 4,
   "metadata": {},
   "outputs": [],
   "source": [
    "def MouseCallback(event,  x,  y,  flags,  param):\n",
    "    if event == cv2.EVENT_LBUTTONUP:\n",
    "        \n",
    "        #performance\n",
    "        startT = cv2.getTickCount()\n",
    "        \n",
    "        seedPixel = numpy.copy(img[y][x])\n",
    "        seedPixelIdex = [y,x]\n",
    "        checkTable = numpy.zeros([imgSiz[0], imgSiz[1]])            #table for pixel that is checked\n",
    "        checkTable[y,x] = 1                                         #when marking 1, which means this pixel is checked\n",
    "        stack.append(seedPixelIdex)                                 #Push the seed pixel index onto the stack as the initial input pixel\n",
    "        checkedPixel = 0\n",
    "        FloodFill(seedPixel, startT)"
   ]
  },
  {
   "cell_type": "markdown",
   "metadata": {},
   "source": [
    "Flood fill Argorithm ---Using 8 neighbor connectivity "
   ]
  },
  {
   "cell_type": "code",
   "execution_count": 5,
   "metadata": {},
   "outputs": [],
   "source": [
    "def FloodFill(seedPixel, startT):\n",
    "    threshold = cv2.getTrackbarPos(trackBarName,windowName) #obtain threshold value\n",
    "    numPixel = 0\n",
    "    while(len(stack) != 0):\n",
    "        aimPix = stack.pop()                                    #short of current pixel\n",
    "        if(ThresholdCal(seedPixel,aimPix,threshold)):\n",
    "            #set the identify region as bule color\n",
    "            img[aimPix[0],aimPix[1]] = [255,0,0]\n",
    "            numPixel += 1\n",
    "\n",
    "            #implimenting 8 neighbor connectivty growth\n",
    "            \n",
    "            #initialize 8 neighbors pos \n",
    "            uPixel = [aimPix[0],min(aimPix[1] + 1, imgSiz[1] -1)]  #up pixel pos\n",
    "            rPixel = [min(aimPix[0] + 1, imgSiz[0] -1),aimPix[1]]  #right pixel pos\n",
    "            lPixel = [max(aimPix[0] - 1, 0),aimPix[1]]             #left pixel pos\n",
    "            dPixel = [aimPix[0],max(aimPix[1] - 1, 0)]             #down pixel pos\n",
    "\n",
    "            ruPixel = [min(aimPix[0] + 1, imgSiz[0] -1),min(aimPix[1] + 1, imgSiz[1] -1)]\n",
    "            rdPixel = [min(aimPix[0] + 1, imgSiz[0] -1),max(aimPix[1] - 1, 0)]\n",
    "            luPixel = [max(aimPix[0] - 1, 0),min(aimPix[1] + 1, imgSiz[1] -1)]\n",
    "            ldPixel = [max(aimPix[0] - 1, 0),max(aimPix[1] - 1, 0)]  \n",
    "\n",
    "            #growing if apply\n",
    "            GrowCheck(seedPixel,uPixel,threshold)\n",
    "            GrowCheck(seedPixel,dPixel,threshold)\n",
    "            GrowCheck(seedPixel,rPixel,threshold)\n",
    "            GrowCheck(seedPixel,lPixel,threshold)\n",
    "            GrowCheck(seedPixel,ruPixel,threshold)\n",
    "            GrowCheck(seedPixel,luPixel,threshold)\n",
    "            GrowCheck(seedPixel,rdPixel,threshold)\n",
    "            GrowCheck(seedPixel,ldPixel,threshold)\n",
    "    \n",
    "    #performance\n",
    "    endT = cv2.getTickCount()\n",
    "    time = (endT - startT)/cv2.getTickFrequency()\n",
    "    print(\"It takes : \",time, \"sec to complete \" , numPixel, \"pixels\")"
   ]
  },
  {
   "cell_type": "markdown",
   "metadata": {},
   "source": [
    "Other Functions"
   ]
  },
  {
   "cell_type": "code",
   "execution_count": 6,
   "metadata": {},
   "outputs": [],
   "source": [
    "def Diff(x, y):\n",
    "    if(x < y):\n",
    "        return y - x\n",
    "    else:\n",
    "        return x - y"
   ]
  },
  {
   "cell_type": "code",
   "execution_count": 7,
   "metadata": {},
   "outputs": [],
   "source": [
    "def ThresholdCal(seed, vsPointIndex, thresholdVal):\n",
    "    vsPoint = img[vsPointIndex[0]][vsPointIndex[1]]\n",
    "    return((Diff(seed[0], vsPoint[0]) <= thresholdVal) and (Diff(seed[1], vsPoint[1]) <= thresholdVal) and ( Diff(seed[2], vsPoint[2]) <= thresholdVal))\n"
   ]
  },
  {
   "cell_type": "code",
   "execution_count": 8,
   "metadata": {},
   "outputs": [],
   "source": [
    "def GrowCheck(seedPixel, vsPix, thresholdVal):\n",
    "    if(ThresholdCal(seedPixel, vsPix, thresholdVal) and not (checkTable[vsPix[0]][vsPix[1]] == 1)):\n",
    "        stack.append(vsPix)                 #append to the checkTable\n",
    "        checkTable[vsPix[0]][vsPix[1]] = 1  #marking the checkTable"
   ]
  },
  {
   "cell_type": "markdown",
   "metadata": {},
   "source": [
    "Main"
   ]
  },
  {
   "cell_type": "code",
   "execution_count": 9,
   "metadata": {
    "scrolled": false
   },
   "outputs": [
    {
     "name": "stdout",
     "output_type": "stream",
     "text": [
      "It takes :  4.6389432 to complete  132317 pixels\n"
     ]
    }
   ],
   "source": [
    "#initalization\\\n",
    "img = cv2.imread(imageName)\n",
    "stack = []\n",
    "threshold = 0\n",
    "imgSiz = [img.shape[0], img.shape[1]]\n",
    "checkTable = numpy.zeros([imgSiz[0], imgSiz[1]])\n",
    "\n",
    "\n",
    "cv2.namedWindow(windowName,cv2.WINDOW_NORMAL)\n",
    "cv2.resizeWindow(windowName,900,50)\n",
    "cv2.createTrackbar(trackBarName, windowName, 1, 255, TargetBarCallback)\n",
    "\n",
    "while True:\n",
    "    cv2.imshow(imageName, img)\n",
    "    cv2.setMouseCallback(imageName,MouseCallback,[stack,img])\n",
    "    k = cv2.waitKey(1)\n",
    "    if k == 27:\n",
    "        break                                               #press ESC to exit the program  \n",
    "cv2.destroyAllWindows()"
   ]
  },
  {
   "cell_type": "code",
   "execution_count": null,
   "metadata": {},
   "outputs": [],
   "source": []
  },
  {
   "cell_type": "code",
   "execution_count": null,
   "metadata": {},
   "outputs": [],
   "source": []
  }
 ],
 "metadata": {
  "interpreter": {
   "hash": "b056a9bb4571a21e1bea1a08acdc3037d3766ff6fcbe41686b1e6c449717e736"
  },
  "kernelspec": {
   "display_name": "Python 3",
   "language": "python",
   "name": "python3"
  },
  "language_info": {
   "codemirror_mode": {
    "name": "ipython",
    "version": 3
   },
   "file_extension": ".py",
   "mimetype": "text/x-python",
   "name": "python",
   "nbconvert_exporter": "python",
   "pygments_lexer": "ipython3",
   "version": "3.8.5"
  }
 },
 "nbformat": 4,
 "nbformat_minor": 4
}
