{
 "cells": [
  {
   "cell_type": "markdown",
   "metadata": {},
   "source": [
    "# Lab 2"
   ]
  },
  {
   "cell_type": "code",
   "execution_count": 1,
   "metadata": {},
   "outputs": [],
   "source": [
    "import cv2 as cv\n",
    "import numpy as np\n",
    "import sklearn as sk\n",
    "from matplotlib import pyplot as plt"
   ]
  },
  {
   "cell_type": "markdown",
   "metadata": {},
   "source": [
    "### function used to check if point is valid then returns true or false"
   ]
  },
  {
   "cell_type": "code",
   "execution_count": 2,
   "metadata": {},
   "outputs": [],
   "source": [
    "def check_point(seed_int, point, threshold):\n",
    "    current_int = img[point[0]][point[1]]\n",
    "    int_dif_0 = uint8diff(seed_int[0], current_int[0])\n",
    "    int_dif_1 = uint8diff(seed_int[1], current_int[1])\n",
    "    int_dif_2 = uint8diff(seed_int[2], current_int[2])\n",
    "    res = (int_dif_0 <= threshold) and (int_dif_1 <= threshold) and (int_dif_2 <= threshold)\n",
    "    return res"
   ]
  },
  {
   "cell_type": "markdown",
   "metadata": {},
   "source": [
    "### function used to calculate the difference between two uint8 values"
   ]
  },
  {
   "cell_type": "code",
   "execution_count": 3,
   "metadata": {},
   "outputs": [],
   "source": [
    "def uint8diff(x, y):\n",
    "    if(x<y):\n",
    "        return y-x\n",
    "    else:\n",
    "        return x-y"
   ]
  },
  {
   "cell_type": "markdown",
   "metadata": {},
   "source": [
    "### function to get the threshold value"
   ]
  },
  {
   "cell_type": "code",
   "execution_count": 4,
   "metadata": {},
   "outputs": [],
   "source": [
    "def set_threshold(*args):\n",
    "    threshold = cv.getTrackbarPos(\"Intensity\", \"Controls\")"
   ]
  },
  {
   "cell_type": "markdown",
   "metadata": {},
   "source": [
    "### flood fill function when mouse is clicked and released"
   ]
  },
  {
   "cell_type": "code",
   "execution_count": 5,
   "metadata": {},
   "outputs": [],
   "source": [
    "def flood_fill(event, x, y, flags, param):\n",
    "    if event == cv.EVENT_LBUTTONUP:\n",
    "        print(\"start\")\n",
    "        check = np.zeros([512,512])\n",
    "        threshold = cv.getTrackbarPos(\"Intensity\", \"Controls\")\n",
    "        seed = [y,x]\n",
    "        check[y,x] = 1\n",
    "        seed_int = np.copy(img[y][x])\n",
    "        stack.append([y,x])\n",
    "        while(len(stack)!=0):\n",
    "            current = stack.pop()\n",
    "            current_int = img[current[0],current[1]]\n",
    " \n",
    "            int_dif_0 = uint8diff(seed_int[0], current_int[0])\n",
    "            int_dif_1 = uint8diff(seed_int[1], current_int[1])\n",
    "            int_dif_2 = uint8diff(seed_int[2], current_int[2])\n",
    "            \n",
    "            if((int_dif_0 <= threshold) and (int_dif_1 <= threshold) and (int_dif_2 <= threshold)):\n",
    "\n",
    "                img[current[0],current[1]] = [255,0,0]\n",
    "                if(check_point(seed_int, [max(current[0]-1, 0),current[1]], threshold) and not check[max(current[0]-1, 0)][current[1]]):\n",
    "                    stack.append([max(current[0]-1, 0),current[1]])\n",
    "                    check[max(current[0]-1, 0)][current[1]] = 1\n",
    "                if(check_point(seed_int, [current[0],max(current[1]-1,0)], threshold) and not check[current[0]][max(current[1]-1,0)]):\n",
    "                    stack.append([current[0],max(current[1]-1,0)])\n",
    "                    check[current[0]][max(current[1]-1,0)] = 1\n",
    "                if(check_point(seed_int, [current[0],min(current[1]+1,511)], threshold) and not check[current[0]][min(current[1]+1,511)]):\n",
    "                    stack.append([current[0],min(current[1]+1,511)])\n",
    "                    check[current[0]][min(current[1]+1,511)] = 1\n",
    "                if(check_point(seed_int, [min(current[0]+1,511),current[1]], threshold) and not check[min(current[0]+1,511)][current[1]]):\n",
    "                    stack.append([min(current[0]+1,511),current[1]])\n",
    "                    check[min(current[0]+1,511)][current[1]] = 1"
   ]
  },
  {
   "cell_type": "markdown",
   "metadata": {},
   "source": [
    "### initialization of global variables and windows"
   ]
  },
  {
   "cell_type": "code",
   "execution_count": 7,
   "metadata": {},
   "outputs": [],
   "source": [
    "img = cv.imread(\"baboon1.png\")\n",
    "#Global Variables\n",
    "stack = []\n",
    "threshold = 0\n",
    "cv.namedWindow('Controls', cv.WINDOW_NORMAL)\n",
    "cv.resizeWindow('Controls', 800, 50)\n",
    "cv.createTrackbar(\"Intensity\", 'Controls', 1, 255, set_threshold)\n",
    "while True:\n",
    "    cv.imshow(\"Baboon\", img)\n",
    "    cv.setMouseCallback(\"Baboon\", flood_fill, [stack,img])\n",
    "    k=cv.waitKey(1)\n",
    "    if k==27: #if key pressed is esc\n",
    "        break\n",
    "cv.destroyAllWindows()"
   ]
  }
 ],
 "metadata": {
  "interpreter": {
   "hash": "b056a9bb4571a21e1bea1a08acdc3037d3766ff6fcbe41686b1e6c449717e736"
  },
  "kernelspec": {
   "display_name": "Python 3",
   "language": "python",
   "name": "python3"
  },
  "language_info": {
   "codemirror_mode": {
    "name": "ipython",
    "version": 3
   },
   "file_extension": ".py",
   "mimetype": "text/x-python",
   "name": "python",
   "nbconvert_exporter": "python",
   "pygments_lexer": "ipython3",
   "version": "3.8.5"
  }
 },
 "nbformat": 4,
 "nbformat_minor": 4
}
