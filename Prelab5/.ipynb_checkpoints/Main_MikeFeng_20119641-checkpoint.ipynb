{
 "cells": [
  {
   "cell_type": "markdown",
   "metadata": {},
   "source": [
    "# ELEC474 Prelab5"
   ]
  },
  {
   "cell_type": "code",
   "execution_count": 1,
   "metadata": {},
   "outputs": [],
   "source": [
    "import cv2 as cv\n",
    "import numpy as np\n",
    "import random\n",
    "import math\n",
    "import time\n",
    "from matplotlib import pyplot as plt"
   ]
  },
  {
   "cell_type": "code",
   "execution_count": 2,
   "metadata": {},
   "outputs": [],
   "source": [
    "global my_SIFT_instance, my_BF_instance\n",
    "my_SIFT_instance = cv.SIFT_create()\n",
    "\n",
    "FLANN_INDEX_KDTREE = 0 #heard from C++ api that this should be 1\n",
    "# FLANN_INDEX_KDTREE = 1\n",
    "\n",
    "img1Name = \"computers_left.png\"\n",
    "img2Name = \"computers_right.png\"\n",
    "img3Name = \"daft_punk_left.jpg\"\n",
    "img4Name = \"daft_punk_right.jpg\"\n",
    "\n",
    "\n",
    "img1 = cv.imread(img1Name)\n",
    "img2 = cv.imread(img2Name)\n",
    "img3 = cv.imread(img3Name)\n",
    "img4 = cv.imread(img4Name)\n",
    "\n",
    "\n",
    "imgDescipt_1 = np.array((\n",
    "\"Left Key Point\",\n",
    "\"Right Key Points\"\n",
    "))\n",
    "\n",
    "imgDescipt_2 = np.array((\n",
    "\"Reference Image\",\n",
    "\"Target Image\",\n",
    "\"Color transformed Image\"\n",
    "))\n",
    "\n",
    "WINDOW_NAME1 = \"1.2 Output Image_1\"\n",
    "WINDOW_NAME2 = \"1.2 Output Image_2\""
   ]
  },
  {
   "cell_type": "markdown",
   "metadata": {},
   "source": [
    "# 1.1"
   ]
  },
  {
   "cell_type": "code",
   "execution_count": 3,
   "metadata": {},
   "outputs": [],
   "source": [
    "def PltImg(img,imgDescipt):\n",
    "    plt.figure(dpi=300)\n",
    "    plt.figure(figsize=(15,15))\n",
    "    idx = len(img)\n",
    "    for i in range(idx):\n",
    "        plt.subplot(1,idx,i+1)\n",
    "\n",
    "        if(len(img[i].shape) == 2): #differ from gray and color img \n",
    "            plt.imshow(img[i],cmap=\"gray\")\n",
    "        else:\n",
    "            plt.imshow(cv.cvtColor(img[i], cv.COLOR_BGR2RGB))\n",
    "\n",
    "        plt.title(imgDescipt[i])\n",
    "    plt.tight_layout()"
   ]
  },
  {
   "cell_type": "code",
   "execution_count": 4,
   "metadata": {},
   "outputs": [],
   "source": [
    "def SIFTOut(img, flag): #if flag == 1, then do gray\n",
    "    imgGray = img\n",
    "    if flag == 1:\n",
    "        imgGray = cv.cvtColor(img,cv.COLOR_BGR2GRAY)\n",
    "        \n",
    "    imgKpOut = np.copy(imgGray)\n",
    "    kp, des = my_SIFT_instance.detectAndCompute(imgGray,None)\n",
    "    imgKpOut = cv.drawKeypoints(imgKpOut,kp,0)\n",
    "    return (imgKpOut,kp,des)\n",
    "\n",
    "def FlannBasedMatchLoweRatio(img1Param,img2Param,\n",
    "                            index_param,search_param,\n",
    "                            kNum, ratio):\n",
    "    img1Kp = img1Param[1]\n",
    "    img2Kp = img2Param[1]\n",
    "    flann = cv.FlannBasedMatcher(index_param,search_param)\n",
    "    matches = flann.knnMatch(img1Param[2],img2Param[2],k = kNum)\n",
    "\n",
    "    loweMatch = []\n",
    "    loweImg1Point = []\n",
    "    loweImg2Point = []\n",
    "    for m,n in matches:\n",
    "        if m.distance < ratio * n.distance:\n",
    "            loweMatch.append([m])\n",
    "            loweImg1Point.append(img1Kp[m.queryIdx].pt)\n",
    "            loweImg2Point.append(img2Kp[m.trainIdx].pt)\n",
    "\n",
    "    imgOut = cv.drawMatchesKnn(img1Param[0],img1Kp,img2Param[0],img2Kp,loweMatch,None,flags=2)\n",
    "    return imgOut, loweMatch, loweImg1Point, loweImg2Point"
   ]
  },
  {
   "cell_type": "code",
   "execution_count": 5,
   "metadata": {},
   "outputs": [],
   "source": [
    "def Matching(img1, img2, flag):\n",
    "    outImages = []\n",
    "    keyPoints = []\n",
    "    descriptors = []\n",
    "    img1Param = SIFTOut(img1, flag)\n",
    "    img2Param = SIFTOut(img2, flag)\n",
    "\n",
    "    #FLANN param \n",
    "    index_params = dict(algorithm = FLANN_INDEX_KDTREE, trees = 5)\n",
    "    search_params = dict(checks = 50)       #or pass empty dict #It specifies the number of times the trees in the index should be recursively traversed.\n",
    "    # search_params = dict(checks = 100)\n",
    "    flannOutImg, Matches, leftPoint, rightPoint = FlannBasedMatchLoweRatio(img1Param, img2Param,\n",
    "                            index_params, search_params,\n",
    "                            kNum = 2, ratio = 0.7)\n",
    "\n",
    "    #classify params \n",
    "    outImages.append(img1Param[0])\n",
    "    outImages.append(img2Param[0])\n",
    "    # outImages.append(flannOutImg)\n",
    "\n",
    "    keyPoints.append(img1Param[1])\n",
    "    keyPoints.append(img2Param[1])\n",
    "\n",
    "    descriptors.append(img1Param[2])\n",
    "    descriptors.append(img2Param[2])\n",
    "    #Plt to check\n",
    "    # PltImg(outImages, imgDescipt_1)\n",
    "\n",
    "    return keyPoints,descriptors,Matches, leftPoint, rightPoint"
   ]
  },
  {
   "cell_type": "code",
   "execution_count": 6,
   "metadata": {},
   "outputs": [
    {
     "name": "stdout",
     "output_type": "stream",
     "text": [
      "Finish\n"
     ]
    }
   ],
   "source": [
    "\n",
    "Matching(img1, img2, 1)\n",
    "print(\"Finish\")"
   ]
  },
  {
   "cell_type": "markdown",
   "metadata": {},
   "source": [
    "# 1.2"
   ]
  },
  {
   "cell_type": "code",
   "execution_count": 7,
   "metadata": {},
   "outputs": [],
   "source": [
    "def CVInit(winName, winSize):\n",
    "    cv.namedWindow(winName, cv.WINDOW_NORMAL)\n",
    "    cv.resizeWindow(winName, winSize)"
   ]
  },
  {
   "cell_type": "code",
   "execution_count": 8,
   "metadata": {},
   "outputs": [],
   "source": [
    "def DrawLine(img1, img2, lines, leftPoint, rightPoint):\n",
    "    col = img1.shape[1]\n",
    "    outImg1 = cv.cvtColor(cv.cvtColor(img1, cv.COLOR_BGR2GRAY), cv.COLOR_GRAY2BGR)\n",
    "    outImg2 = cv.cvtColor(cv.cvtColor(img2, cv.COLOR_BGR2GRAY), cv.COLOR_GRAY2BGR)\n",
    "    for line, lpt, rpt in zip(lines, leftPoint,rightPoint):\n",
    "        x1,y1 = map(int, [0, -line[2]/line[1] ])\n",
    "        x2,y2 = map(int, [col, -(line[2]+line[1]*col)/line[1]])\n",
    "        rdColor = tuple(np.random.randint(0,255,size = 3).tolist())\n",
    "        outImg1 = cv.line(outImg1, (x1,y1), (x2,y2), rdColor, thickness = 1)\n",
    "        outImg1 = cv.circle(outImg1, tuple(lpt[0]), 5, rdColor, -1)\n",
    "        outImg2 = cv.circle(outImg2, tuple(rpt[0]), 5, rdColor, -1)\n",
    "    return outImg1, outImg2\n",
    "    "
   ]
  },
  {
   "cell_type": "code",
   "execution_count": 9,
   "metadata": {},
   "outputs": [],
   "source": [
    "def EpipolarLineCal(img1, img2):\n",
    "    point1 = []\n",
    "    point2 = []\n",
    "    imgSize = img1.shape\n",
    "    _,_,_,point1,point2 = Matching(img1, img2, flag = 1)\n",
    "    point1 = np.int32(point1)\n",
    "    point2 = np.int32(point2)\n",
    "    F, mask = cv.findFundamentalMat(point1, point2, cv.FM_LMEDS)\n",
    "    \n",
    "    # point1 = point1[mask.ravel()==1] #this method works as well, turn matrix into 1 dimension \n",
    "    point1 = point1[mask.reshape(-1)==1].reshape(-1,1,2)\n",
    "    point2 = point2[mask.reshape(-1)==1].reshape(-1,1,2)\n",
    "    \n",
    "    line1 = cv.computeCorrespondEpilines(point2, 2, F)[0]\n",
    "    line2 = cv.computeCorrespondEpilines(point1, 1, F)[0]\n",
    "    \n",
    "    outImg1, outImg2 = DrawLine(img1, img2, line1, point1, point2)\n",
    "    outImg3, outImg4 = DrawLine(img2, img1, line2, point2, point1)\n",
    "    \n",
    "    #cv imshow    \n",
    "    CVInit(WINDOW_NAME1, [imgSize[1] * 2, imgSize[0]])\n",
    "    cv.imshow(WINDOW_NAME1, outImg1)\n",
    "    cv.imshow(WINDOW_NAME1, outImg3)\n",
    "    CVInit(WINDOW_NAME2, [imgSize[1] * 2, imgSize[0]])\n",
    "    cv.imshow(WINDOW_NAME2, outImg2)\n",
    "    cv.imshow(WINDOW_NAME2, outImg4)"
   ]
  },
  {
   "cell_type": "code",
   "execution_count": 10,
   "metadata": {},
   "outputs": [],
   "source": [
    "EpipolarLineCal(img1, img2)"
   ]
  },
  {
   "cell_type": "markdown",
   "metadata": {},
   "source": [
    "# 1.3"
   ]
  }
 ],
 "metadata": {
  "interpreter": {
   "hash": "b056a9bb4571a21e1bea1a08acdc3037d3766ff6fcbe41686b1e6c449717e736"
  },
  "kernelspec": {
   "display_name": "Python 3",
   "language": "python",
   "name": "python3"
  },
  "language_info": {
   "codemirror_mode": {
    "name": "ipython",
    "version": 3
   },
   "file_extension": ".py",
   "mimetype": "text/x-python",
   "name": "python",
   "nbconvert_exporter": "python",
   "pygments_lexer": "ipython3",
   "version": "3.8.5"
  }
 },
 "nbformat": 4,
 "nbformat_minor": 2
}
